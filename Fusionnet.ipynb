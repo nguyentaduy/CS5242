{
 "cells": [
  {
   "cell_type": "code",
   "execution_count": 1,
   "metadata": {
    "collapsed": false
   },
   "outputs": [
    {
     "name": "stderr",
     "output_type": "stream",
     "text": [
      "Using TensorFlow backend.\n"
     ]
    }
   ],
   "source": [
    "from __future__ import print_function\n",
    "import json\n",
    "from pprint import pprint\n",
    "import numpy as np\n",
    "\n",
    "import keras\n",
    "from nltk.tokenize import word_tokenize\n",
    "from nltk.stem.wordnet import WordNetLemmatizer\n",
    "from keras import optimizers\n",
    "from keras.utils.data_utils import get_file\n",
    "from keras.layers.embeddings import Embedding\n",
    "from keras import layers\n",
    "from keras.layers import Lambda, Activation,recurrent, Bidirectional, Dense, Flatten, Conv1D, Dropout, LSTM, GRU, concatenate, multiply, add, Reshape, MaxPooling1D, BatchNormalization\n",
    "from keras.models import Model, load_model\n",
    "from keras.preprocessing.sequence import pad_sequences\n",
    "from keras import backend as K\n",
    "from keras.engine.topology import Layer"
   ]
  },
  {
   "cell_type": "code",
   "execution_count": 2,
   "metadata": {
    "collapsed": true
   },
   "outputs": [],
   "source": [
    "def get_dictionary(vocab):\n",
    "    d = dict()\n",
    "    with open(vocab) as f:\n",
    "        lines = f.readlines()\n",
    "        for l in lines:\n",
    "            values = l.strip().split()\n",
    "            word = values[0]\n",
    "            coefs = np.asarray(values[1:], dtype='float32')\n",
    "            d[word] = coefs\n",
    "    return d"
   ]
  },
  {
   "cell_type": "code",
   "execution_count": 3,
   "metadata": {
    "collapsed": true
   },
   "outputs": [],
   "source": [
    "d = get_dictionary(\"glove/glove.6B.300d.txt\")"
   ]
  },
  {
   "cell_type": "code",
   "execution_count": 4,
   "metadata": {
    "collapsed": true
   },
   "outputs": [],
   "source": [
    "with open('train.json') as data_file:    \n",
    "    data = json.load(data_file)"
   ]
  },
  {
   "cell_type": "code",
   "execution_count": 5,
   "metadata": {
    "collapsed": true
   },
   "outputs": [],
   "source": [
    "ids = []\n",
    "titles = dict()\n",
    "contexts = dict()\n",
    "questions = dict()\n",
    "answers_text = dict()\n",
    "answers_start = dict()\n",
    "for i in range(len(data)):\n",
    "    paragraphs = data[i][\"paragraphs\"]\n",
    "    title = data[i][\"title\"]\n",
    "    for j in range(len(paragraphs)):\n",
    "        context = paragraphs[j][\"context\"]\n",
    "        qas = paragraphs[j][\"qas\"]\n",
    "        for k in range(len(qas)):\n",
    "            id_ = qas[k][\"id\"]\n",
    "            answer = qas[k][\"answer\"]\n",
    "            question = qas[k][\"question\"]\n",
    "            ids.append(id_)\n",
    "            titles[id_] = title\n",
    "            contexts[id_] = context\n",
    "            answers_start[id_] = answer[\"answer_start\"]\n",
    "            answers_text[id_] = answer[\"text\"]\n",
    "            questions[id_] = question\n"
   ]
  },
  {
   "cell_type": "code",
   "execution_count": 6,
   "metadata": {
    "collapsed": true
   },
   "outputs": [],
   "source": [
    "max_para = 600\n",
    "max_q = 50\n",
    "dimension = 300\n",
    "# train_len = len(ids)\n",
    "train_len = 500"
   ]
  },
  {
   "cell_type": "code",
   "execution_count": 7,
   "metadata": {
    "collapsed": true
   },
   "outputs": [],
   "source": [
    "paras = np.zeros((train_len, max_para, dimension))\n",
    "qns = np.zeros((train_len, max_q, dimension))\n",
    "exact_match = np.zeros((train_len, max_para, 3))\n",
    "lmtzr = WordNetLemmatizer()"
   ]
  },
  {
   "cell_type": "code",
   "execution_count": 8,
   "metadata": {
    "collapsed": false
   },
   "outputs": [
    {
     "name": "stdout",
     "output_type": "stream",
     "text": [
      "0\n"
     ]
    }
   ],
   "source": [
    "for i in range(train_len):\n",
    "    if i % 1000 == 0:\n",
    "        print(i)\n",
    "    words = word_tokenize(contexts[ids[i]])\n",
    "    qs = word_tokenize(questions[ids[i]])\n",
    "    qs_1 = [w.lower() for w in qs]\n",
    "    qs_2 = [lmtzr.lemmatize(w) for w in qs_1]\n",
    "    for j in range(min(max_para - 1, len(words))):\n",
    "        if words[j].lower() in d:\n",
    "            paras[i][j] = d[words[j].lower()]\n",
    "        if words[j] in qs:\n",
    "            exact_match[i][j][0] = 1\n",
    "        if words[j].lower() in qs_1:\n",
    "            exact_match[i][j][1] = 1\n",
    "        if lmtzr.lemmatize(words[j].lower()) in qs_2:\n",
    "            exact_match[i][j][2] = 1\n",
    "    for j in range(min(max_q - 1, len(qs))):\n",
    "        if qs[j].lower() in d:\n",
    "            qns[i][j] = d[qs[j].lower()]"
   ]
  },
  {
   "cell_type": "code",
   "execution_count": 9,
   "metadata": {
    "collapsed": true
   },
   "outputs": [],
   "source": [
    "def create_one_hot_answer(para, answer, answer_start, option, max_length):\n",
    "    if option == \"s\":\n",
    "        from_begin = para[0:answer_start]\n",
    "    else:\n",
    "        from_begin = para[0:answer_start+len(answer)]\n",
    "    l = len(word_tokenize(from_begin))\n",
    "    one_hot = np.zeros(max_length)\n",
    "    if option == \"s\":\n",
    "        one_hot[min(max_para-1,l)] = 1\n",
    "    else:\n",
    "        one_hot[min(max_para-1,l-1)] = 1\n",
    "    return one_hot\n",
    "    "
   ]
  },
  {
   "cell_type": "code",
   "execution_count": 10,
   "metadata": {
    "collapsed": true
   },
   "outputs": [],
   "source": [
    "ans_starts = [create_one_hot_answer(contexts[ids[i]], answers_text[ids[i]], answers_start[ids[i]], \"s\", max_para) for i in range(train_len)]\n",
    "ans_ends = [create_one_hot_answer(contexts[ids[i]], answers_text[ids[i]], answers_start[ids[i]], \"e\", max_para) for i in range(train_len)]"
   ]
  },
  {
   "cell_type": "code",
   "execution_count": 11,
   "metadata": {
    "collapsed": true
   },
   "outputs": [],
   "source": [
    "ans_s = np.array(ans_starts)\n",
    "ans_e = np.array(ans_ends)"
   ]
  },
  {
   "cell_type": "code",
   "execution_count": 12,
   "metadata": {
    "collapsed": false
   },
   "outputs": [],
   "source": [
    "class MyLayer(Layer):\n",
    "\n",
    "    def __init__(self, output_dim, name, **kwargs):\n",
    "        self.output_dim = output_dim\n",
    "        self.name = name\n",
    "        super(MyLayer, self).__init__(**kwargs)\n",
    "\n",
    "    def build(self, input_shape):\n",
    "        # Create a trainable weight variable for this layer.\n",
    "        self.W = self.add_weight(name=self.name, \n",
    "                                      shape=(input_shape[2], self.output_dim),\n",
    "                                      initializer='uniform',\n",
    "                                      trainable=True)\n",
    "        super(MyLayer, self).build(input_shape)  # Be sure to call this somewhere!\n",
    "\n",
    "    def call(self, x):\n",
    "        return K.dot(x, self.W)\n",
    "\n",
    "    def compute_output_shape(self, input_shape):\n",
    "        return (input_shape[0],input_shape[1], self.output_dim)"
   ]
  },
  {
   "cell_type": "code",
   "execution_count": 13,
   "metadata": {
    "collapsed": true
   },
   "outputs": [],
   "source": [
    "P = layers.Input(shape=(max_para,dimension), dtype='float32')\n",
    "Q = layers.Input(shape=(max_q,dimension), dtype='float32')\n",
    "P_exact_match = layers.Input(shape=(max_para,3), dtype='float32')"
   ]
  },
  {
   "cell_type": "code",
   "execution_count": 14,
   "metadata": {
    "collapsed": true
   },
   "outputs": [],
   "source": [
    "alpha_w = MyLayer(128,\"alpha_w\")\n",
    "alpha_l = MyLayer(128,\"alpha_l\")\n",
    "alpha_h = MyLayer(128,\"alpha_h\")\n",
    "alpha_u = MyLayer(128,\"alpha_u\")\n",
    "alpha_s = MyLayer(128,\"alpha_s\")\n",
    "beta = MyLayer(1,\"beta\")\n",
    "gamma_s = MyLayer(250, \"gamma_s\")\n",
    "gamma_e = MyLayer(250, \"gamma_e\")\n",
    "hidden_unit = 125"
   ]
  },
  {
   "cell_type": "code",
   "execution_count": 15,
   "metadata": {
    "collapsed": false
   },
   "outputs": [],
   "source": [
    "# Word level fusion\n",
    "aligned_P = layers.Activation(\"relu\")(alpha_w(P))\n",
    "aligned_Q = layers.Activation(\"relu\")(alpha_w(Q))\n",
    "word_fusion = layers.dot([aligned_Q, aligned_P], axes=2)\n",
    "word_fusion = Reshape((max_para * max_q,))(word_fusion)\n",
    "word_fusion = layers.Activation(\"softmax\")(word_fusion)\n",
    "word_fusion = Reshape((max_q, max_para,))(word_fusion)\n",
    "word_fusion = layers.dot([word_fusion,Q],axes=1)"
   ]
  },
  {
   "cell_type": "code",
   "execution_count": 16,
   "metadata": {
    "collapsed": false
   },
   "outputs": [],
   "source": [
    "# READING\n",
    "final_P = layers.concatenate([P, P_exact_match, word_fusion], axis=2)\n",
    "final_P = Dropout(.4)(final_P)\n",
    "low_P = Bidirectional(LSTM(hidden_unit,return_sequences=True))(final_P)\n",
    "low_P = Dropout(.4)(low_P)\n",
    "high_P = Bidirectional(LSTM(hidden_unit,return_sequences=True))(low_P)\n",
    "high_P = Dropout(.4)(high_P)\n"
   ]
  },
  {
   "cell_type": "code",
   "execution_count": 17,
   "metadata": {
    "collapsed": false
   },
   "outputs": [],
   "source": [
    "final_Q = Dropout(.4)(Q)\n",
    "low_Q = Bidirectional(LSTM(hidden_unit,return_sequences=True))(final_Q)\n",
    "low_Q = Dropout(.4)(low_Q)\n",
    "high_Q = Bidirectional(LSTM(hidden_unit,return_sequences=True))(low_Q)\n",
    "high_Q = Dropout(.4)(high_Q)"
   ]
  },
  {
   "cell_type": "code",
   "execution_count": 18,
   "metadata": {
    "collapsed": false
   },
   "outputs": [],
   "source": [
    "# Question understanding\n",
    "U_Q = layers.concatenate([low_Q, high_Q], axis=2)\n",
    "U_Q = Bidirectional(LSTM(hidden_unit,return_sequences=True))(U_Q)\n",
    "U_Q = Dropout(.4)(U_Q)\n",
    "w = beta(U_Q)\n",
    "UQ = layers.dot([w,U_Q],axes=1)"
   ]
  },
  {
   "cell_type": "code",
   "execution_count": 19,
   "metadata": {
    "collapsed": true
   },
   "outputs": [],
   "source": [
    "# History of words\n",
    "HP = layers.concatenate([P, low_P, high_P], axis = 2)\n",
    "HQ = layers.concatenate([Q, low_Q, high_Q], axis = 2)"
   ]
  },
  {
   "cell_type": "code",
   "execution_count": 20,
   "metadata": {
    "collapsed": true
   },
   "outputs": [],
   "source": [
    "# Low level fusion\n",
    "low_HP = layers.Activation(\"relu\")(alpha_l(HP))\n",
    "low_HQ = layers.Activation(\"relu\")(alpha_l(HQ))\n",
    "low_fusion = layers.dot([low_HQ, low_HP], axes=2)\n",
    "low_fusion = Reshape((max_para * max_q,))(low_fusion)\n",
    "low_fusion = layers.Activation(\"softmax\")(low_fusion)\n",
    "low_fusion = Reshape((max_q, max_para,))(low_fusion)\n",
    "low_fusion = layers.dot([low_fusion,low_Q],axes=1)\n",
    "low_fusion = Dropout(.4)(low_fusion)"
   ]
  },
  {
   "cell_type": "code",
   "execution_count": 21,
   "metadata": {
    "collapsed": true
   },
   "outputs": [],
   "source": [
    "# High level fusion\n",
    "high_HP = layers.Activation(\"relu\")(alpha_h(HP))\n",
    "high_HQ = layers.Activation(\"relu\")(alpha_h(HQ))\n",
    "high_fusion = layers.dot([high_HQ, high_HP], axes=2)\n",
    "high_fusion = Reshape((max_para * max_q,))(high_fusion)\n",
    "high_fusion = layers.Activation(\"softmax\")(high_fusion)\n",
    "high_fusion = Reshape((max_q, max_para,))(high_fusion)\n",
    "high_fusion = layers.dot([high_fusion,high_Q],axes=1)\n",
    "high_fusion = Dropout(.4)(high_fusion)"
   ]
  },
  {
   "cell_type": "code",
   "execution_count": 22,
   "metadata": {
    "collapsed": true
   },
   "outputs": [],
   "source": [
    "# Understanding level fusion\n",
    "U_HP = layers.Activation(\"relu\")(alpha_u(HP))\n",
    "U_HQ = layers.Activation(\"relu\")(alpha_u(HQ))\n",
    "U_fusion = layers.dot([U_HQ, U_HP], axes=2)\n",
    "U_fusion = Reshape((max_para * max_q,))(U_fusion)\n",
    "U_fusion = layers.Activation(\"softmax\")(U_fusion)\n",
    "U_fusion = Reshape((max_q, max_para,))(U_fusion)\n",
    "U_fusion = layers.dot([U_fusion,U_Q],axes=1)\n",
    "U_fusion = Dropout(.4)(U_fusion)"
   ]
  },
  {
   "cell_type": "code",
   "execution_count": 23,
   "metadata": {
    "collapsed": true
   },
   "outputs": [],
   "source": [
    "# Fully-aware attention\n",
    "P_fusion = layers.concatenate([low_P, high_P, low_fusion, high_fusion, U_fusion], axis=2)\n",
    "V_P = Bidirectional(LSTM(hidden_unit,return_sequences=True))(P_fusion)\n",
    "V_P = Dropout(.4)(V_P)\n",
    "H_P = layers.concatenate([P, P_fusion, V_P], axis=2)"
   ]
  },
  {
   "cell_type": "code",
   "execution_count": 24,
   "metadata": {
    "collapsed": true
   },
   "outputs": [],
   "source": [
    "# Self-boosted fusion\n",
    "self_HP = layers.Activation(\"relu\")(alpha_s(H_P))\n",
    "self_fusion = layers.dot([self_HP, self_HP], axes=2)\n",
    "self_fusion = Reshape((max_para * max_para,))(self_fusion)\n",
    "self_fusion = layers.Activation(\"softmax\")(self_fusion)\n",
    "self_fusion = Reshape((max_para, max_para))(self_fusion)\n",
    "self_fusion = layers.dot([self_fusion,V_P],axes=1)\n",
    "self_fusion = Dropout(.4)(self_fusion)"
   ]
  },
  {
   "cell_type": "code",
   "execution_count": 25,
   "metadata": {
    "collapsed": true
   },
   "outputs": [],
   "source": [
    "U_P = layers.concatenate([V_P, self_fusion], axis=2)\n",
    "U_P = Bidirectional(LSTM(hidden_unit,return_sequences=True))(U_P)\n",
    "U_P = Dropout(.4)(U_P)"
   ]
  },
  {
   "cell_type": "code",
   "execution_count": 26,
   "metadata": {
    "collapsed": false
   },
   "outputs": [],
   "source": [
    "start = gamma_s(U_P)\n",
    "start = layers.dot([start, UQ], axes=2)\n",
    "start = Reshape((max_para,))(start)\n",
    "start = layers.Activation(\"softmax\")(start)"
   ]
  },
  {
   "cell_type": "code",
   "execution_count": 27,
   "metadata": {
    "collapsed": false
   },
   "outputs": [],
   "source": [
    "end = gamma_e(U_P)\n",
    "end = layers.dot([end, UQ], axes=2)\n",
    "end = Reshape((max_para,))(end)\n",
    "end = layers.Activation(\"softmax\")(end)"
   ]
  },
  {
   "cell_type": "code",
   "execution_count": 28,
   "metadata": {
    "collapsed": false
   },
   "outputs": [],
   "source": [
    "model = Model([P, Q, P_exact_match],[start, end])"
   ]
  },
  {
   "cell_type": "code",
   "execution_count": 29,
   "metadata": {
    "collapsed": true
   },
   "outputs": [],
   "source": [
    "model.compile(optimizer=\"adamax\",\n",
    "              loss='categorical_crossentropy',\n",
    "              metrics=['accuracy'])"
   ]
  },
  {
   "cell_type": "code",
   "execution_count": 30,
   "metadata": {
    "collapsed": false
   },
   "outputs": [
    {
     "name": "stdout",
     "output_type": "stream",
     "text": [
      "__________________________________________________________________________________________________\n",
      "Layer (type)                    Output Shape         Param #     Connected to                     \n",
      "==================================================================================================\n",
      "input_1 (InputLayer)            (None, 600, 300)     0                                            \n",
      "__________________________________________________________________________________________________\n",
      "input_2 (InputLayer)            (None, 50, 300)      0                                            \n",
      "__________________________________________________________________________________________________\n",
      "my_layer_1 (MyLayer)            multiple             38400       input_1[0][0]                    \n",
      "                                                                 input_2[0][0]                    \n",
      "__________________________________________________________________________________________________\n",
      "activation_2 (Activation)       (None, 50, 128)      0           my_layer_1[1][0]                 \n",
      "__________________________________________________________________________________________________\n",
      "activation_1 (Activation)       (None, 600, 128)     0           my_layer_1[0][0]                 \n",
      "__________________________________________________________________________________________________\n",
      "dot_1 (Dot)                     (None, 50, 600)      0           activation_2[0][0]               \n",
      "                                                                 activation_1[0][0]               \n",
      "__________________________________________________________________________________________________\n",
      "reshape_1 (Reshape)             (None, 30000)        0           dot_1[0][0]                      \n",
      "__________________________________________________________________________________________________\n",
      "activation_3 (Activation)       (None, 30000)        0           reshape_1[0][0]                  \n",
      "__________________________________________________________________________________________________\n",
      "reshape_2 (Reshape)             (None, 50, 600)      0           activation_3[0][0]               \n",
      "__________________________________________________________________________________________________\n",
      "input_3 (InputLayer)            (None, 600, 3)       0                                            \n",
      "__________________________________________________________________________________________________\n",
      "dot_2 (Dot)                     (None, 600, 300)     0           reshape_2[0][0]                  \n",
      "                                                                 input_2[0][0]                    \n",
      "__________________________________________________________________________________________________\n",
      "concatenate_1 (Concatenate)     (None, 600, 603)     0           input_1[0][0]                    \n",
      "                                                                 input_3[0][0]                    \n",
      "                                                                 dot_2[0][0]                      \n",
      "__________________________________________________________________________________________________\n",
      "dropout_1 (Dropout)             (None, 600, 603)     0           concatenate_1[0][0]              \n",
      "__________________________________________________________________________________________________\n",
      "dropout_4 (Dropout)             (None, 50, 300)      0           input_2[0][0]                    \n",
      "__________________________________________________________________________________________________\n",
      "bidirectional_1 (Bidirectional) (None, 600, 250)     729000      dropout_1[0][0]                  \n",
      "__________________________________________________________________________________________________\n",
      "bidirectional_3 (Bidirectional) (None, 50, 250)      426000      dropout_4[0][0]                  \n",
      "__________________________________________________________________________________________________\n",
      "dropout_2 (Dropout)             (None, 600, 250)     0           bidirectional_1[0][0]            \n",
      "__________________________________________________________________________________________________\n",
      "dropout_5 (Dropout)             (None, 50, 250)      0           bidirectional_3[0][0]            \n",
      "__________________________________________________________________________________________________\n",
      "bidirectional_2 (Bidirectional) (None, 600, 250)     376000      dropout_2[0][0]                  \n",
      "__________________________________________________________________________________________________\n",
      "bidirectional_4 (Bidirectional) (None, 50, 250)      376000      dropout_5[0][0]                  \n",
      "__________________________________________________________________________________________________\n",
      "dropout_3 (Dropout)             (None, 600, 250)     0           bidirectional_2[0][0]            \n",
      "__________________________________________________________________________________________________\n",
      "dropout_6 (Dropout)             (None, 50, 250)      0           bidirectional_4[0][0]            \n",
      "__________________________________________________________________________________________________\n",
      "concatenate_4 (Concatenate)     (None, 50, 800)      0           input_2[0][0]                    \n",
      "                                                                 dropout_5[0][0]                  \n",
      "                                                                 dropout_6[0][0]                  \n",
      "__________________________________________________________________________________________________\n",
      "concatenate_3 (Concatenate)     (None, 600, 800)     0           input_1[0][0]                    \n",
      "                                                                 dropout_2[0][0]                  \n",
      "                                                                 dropout_3[0][0]                  \n",
      "__________________________________________________________________________________________________\n",
      "my_layer_2 (MyLayer)            multiple             102400      concatenate_3[0][0]              \n",
      "                                                                 concatenate_4[0][0]              \n",
      "__________________________________________________________________________________________________\n",
      "my_layer_3 (MyLayer)            multiple             102400      concatenate_3[0][0]              \n",
      "                                                                 concatenate_4[0][0]              \n",
      "__________________________________________________________________________________________________\n",
      "my_layer_4 (MyLayer)            multiple             102400      concatenate_3[0][0]              \n",
      "                                                                 concatenate_4[0][0]              \n",
      "__________________________________________________________________________________________________\n",
      "activation_5 (Activation)       (None, 50, 128)      0           my_layer_2[1][0]                 \n",
      "__________________________________________________________________________________________________\n",
      "activation_4 (Activation)       (None, 600, 128)     0           my_layer_2[0][0]                 \n",
      "__________________________________________________________________________________________________\n",
      "activation_8 (Activation)       (None, 50, 128)      0           my_layer_3[1][0]                 \n",
      "__________________________________________________________________________________________________\n",
      "activation_7 (Activation)       (None, 600, 128)     0           my_layer_3[0][0]                 \n",
      "__________________________________________________________________________________________________\n",
      "activation_11 (Activation)      (None, 50, 128)      0           my_layer_4[1][0]                 \n",
      "__________________________________________________________________________________________________\n",
      "activation_10 (Activation)      (None, 600, 128)     0           my_layer_4[0][0]                 \n",
      "__________________________________________________________________________________________________\n",
      "dot_4 (Dot)                     (None, 50, 600)      0           activation_5[0][0]               \n",
      "                                                                 activation_4[0][0]               \n",
      "__________________________________________________________________________________________________\n",
      "dot_6 (Dot)                     (None, 50, 600)      0           activation_8[0][0]               \n",
      "                                                                 activation_7[0][0]               \n",
      "__________________________________________________________________________________________________\n",
      "dot_8 (Dot)                     (None, 50, 600)      0           activation_11[0][0]              \n",
      "                                                                 activation_10[0][0]              \n",
      "__________________________________________________________________________________________________\n",
      "reshape_3 (Reshape)             (None, 30000)        0           dot_4[0][0]                      \n",
      "__________________________________________________________________________________________________\n",
      "reshape_5 (Reshape)             (None, 30000)        0           dot_6[0][0]                      \n",
      "__________________________________________________________________________________________________\n",
      "reshape_7 (Reshape)             (None, 30000)        0           dot_8[0][0]                      \n",
      "__________________________________________________________________________________________________\n",
      "concatenate_2 (Concatenate)     (None, 50, 500)      0           dropout_5[0][0]                  \n",
      "                                                                 dropout_6[0][0]                  \n",
      "__________________________________________________________________________________________________\n",
      "activation_6 (Activation)       (None, 30000)        0           reshape_3[0][0]                  \n",
      "__________________________________________________________________________________________________\n",
      "activation_9 (Activation)       (None, 30000)        0           reshape_5[0][0]                  \n",
      "__________________________________________________________________________________________________\n",
      "activation_12 (Activation)      (None, 30000)        0           reshape_7[0][0]                  \n",
      "__________________________________________________________________________________________________\n",
      "bidirectional_5 (Bidirectional) (None, 50, 250)      626000      concatenate_2[0][0]              \n",
      "__________________________________________________________________________________________________\n",
      "reshape_4 (Reshape)             (None, 50, 600)      0           activation_6[0][0]               \n",
      "__________________________________________________________________________________________________\n",
      "reshape_6 (Reshape)             (None, 50, 600)      0           activation_9[0][0]               \n",
      "__________________________________________________________________________________________________\n",
      "reshape_8 (Reshape)             (None, 50, 600)      0           activation_12[0][0]              \n",
      "__________________________________________________________________________________________________\n",
      "dropout_7 (Dropout)             (None, 50, 250)      0           bidirectional_5[0][0]            \n",
      "__________________________________________________________________________________________________\n",
      "dot_5 (Dot)                     (None, 600, 250)     0           reshape_4[0][0]                  \n",
      "                                                                 dropout_5[0][0]                  \n",
      "__________________________________________________________________________________________________\n",
      "dot_7 (Dot)                     (None, 600, 250)     0           reshape_6[0][0]                  \n",
      "                                                                 dropout_6[0][0]                  \n",
      "__________________________________________________________________________________________________\n",
      "dot_9 (Dot)                     (None, 600, 250)     0           reshape_8[0][0]                  \n",
      "                                                                 dropout_7[0][0]                  \n",
      "__________________________________________________________________________________________________\n",
      "dropout_8 (Dropout)             (None, 600, 250)     0           dot_5[0][0]                      \n",
      "__________________________________________________________________________________________________\n",
      "dropout_9 (Dropout)             (None, 600, 250)     0           dot_7[0][0]                      \n",
      "__________________________________________________________________________________________________\n",
      "dropout_10 (Dropout)            (None, 600, 250)     0           dot_9[0][0]                      \n",
      "__________________________________________________________________________________________________\n",
      "concatenate_5 (Concatenate)     (None, 600, 1250)    0           dropout_2[0][0]                  \n",
      "                                                                 dropout_3[0][0]                  \n",
      "                                                                 dropout_8[0][0]                  \n",
      "                                                                 dropout_9[0][0]                  \n",
      "                                                                 dropout_10[0][0]                 \n",
      "__________________________________________________________________________________________________\n",
      "bidirectional_6 (Bidirectional) (None, 600, 250)     1376000     concatenate_5[0][0]              \n",
      "__________________________________________________________________________________________________\n",
      "dropout_11 (Dropout)            (None, 600, 250)     0           bidirectional_6[0][0]            \n",
      "__________________________________________________________________________________________________\n",
      "concatenate_6 (Concatenate)     (None, 600, 1800)    0           input_1[0][0]                    \n",
      "                                                                 concatenate_5[0][0]              \n",
      "                                                                 dropout_11[0][0]                 \n",
      "__________________________________________________________________________________________________\n",
      "my_layer_5 (MyLayer)            (None, 600, 128)     230400      concatenate_6[0][0]              \n",
      "__________________________________________________________________________________________________\n",
      "activation_13 (Activation)      (None, 600, 128)     0           my_layer_5[0][0]                 \n",
      "__________________________________________________________________________________________________\n",
      "dot_10 (Dot)                    (None, 600, 600)     0           activation_13[0][0]              \n",
      "                                                                 activation_13[0][0]              \n",
      "__________________________________________________________________________________________________\n",
      "reshape_9 (Reshape)             (None, 360000)       0           dot_10[0][0]                     \n",
      "__________________________________________________________________________________________________\n",
      "activation_14 (Activation)      (None, 360000)       0           reshape_9[0][0]                  \n",
      "__________________________________________________________________________________________________\n",
      "reshape_10 (Reshape)            (None, 600, 600)     0           activation_14[0][0]              \n",
      "__________________________________________________________________________________________________\n",
      "dot_11 (Dot)                    (None, 600, 250)     0           reshape_10[0][0]                 \n",
      "                                                                 dropout_11[0][0]                 \n",
      "__________________________________________________________________________________________________\n",
      "dropout_12 (Dropout)            (None, 600, 250)     0           dot_11[0][0]                     \n",
      "__________________________________________________________________________________________________\n",
      "concatenate_7 (Concatenate)     (None, 600, 500)     0           dropout_11[0][0]                 \n",
      "                                                                 dropout_12[0][0]                 \n",
      "__________________________________________________________________________________________________\n",
      "bidirectional_7 (Bidirectional) (None, 600, 250)     626000      concatenate_7[0][0]              \n",
      "__________________________________________________________________________________________________\n",
      "dropout_13 (Dropout)            (None, 600, 250)     0           bidirectional_7[0][0]            \n",
      "__________________________________________________________________________________________________\n",
      "my_layer_6 (MyLayer)            (None, 50, 1)        250         dropout_7[0][0]                  \n",
      "__________________________________________________________________________________________________\n",
      "my_layer_7 (MyLayer)            (None, 600, 250)     62500       dropout_13[0][0]                 \n",
      "__________________________________________________________________________________________________\n",
      "dot_3 (Dot)                     (None, 1, 250)       0           my_layer_6[0][0]                 \n",
      "                                                                 dropout_7[0][0]                  \n",
      "__________________________________________________________________________________________________\n",
      "my_layer_8 (MyLayer)            (None, 600, 250)     62500       dropout_13[0][0]                 \n",
      "__________________________________________________________________________________________________\n",
      "dot_12 (Dot)                    (None, 600, 1)       0           my_layer_7[0][0]                 \n",
      "                                                                 dot_3[0][0]                      \n",
      "__________________________________________________________________________________________________\n",
      "dot_13 (Dot)                    (None, 600, 1)       0           my_layer_8[0][0]                 \n",
      "                                                                 dot_3[0][0]                      \n",
      "__________________________________________________________________________________________________\n",
      "reshape_11 (Reshape)            (None, 600)          0           dot_12[0][0]                     \n",
      "__________________________________________________________________________________________________\n",
      "reshape_12 (Reshape)            (None, 600)          0           dot_13[0][0]                     \n",
      "__________________________________________________________________________________________________\n",
      "activation_15 (Activation)      (None, 600)          0           reshape_11[0][0]                 \n",
      "__________________________________________________________________________________________________\n",
      "activation_16 (Activation)      (None, 600)          0           reshape_12[0][0]                 \n",
      "==================================================================================================\n",
      "Total params: 5,236,250\n",
      "Trainable params: 5,236,250\n",
      "Non-trainable params: 0\n",
      "__________________________________________________________________________________________________\n"
     ]
    }
   ],
   "source": [
    "model.summary()"
   ]
  },
  {
   "cell_type": "code",
   "execution_count": null,
   "metadata": {
    "collapsed": false
   },
   "outputs": [
    {
     "name": "stdout",
     "output_type": "stream",
     "text": [
      "Training\n",
      "*********************-- 0 --*********************\n",
      "Train on 450 samples, validate on 50 samples\n",
      "Epoch 1/2\n"
     ]
    }
   ],
   "source": [
    "print('Training')\n",
    "for i in range(10):\n",
    "    print(\"*********************--\", i, \"--*********************\")\n",
    "    model.fit([paras, qns, exact_match], [ans_s, ans_e],\n",
    "              batch_size=32, epochs=2, validation_split=0.1)\n",
    "    model.save('fusion.h5')"
   ]
  },
  {
   "cell_type": "code",
   "execution_count": null,
   "metadata": {
    "collapsed": true
   },
   "outputs": [],
   "source": []
  }
 ],
 "metadata": {
  "anaconda-cloud": {},
  "kernelspec": {
   "display_name": "Python [Root]",
   "language": "python",
   "name": "Python [Root]"
  },
  "language_info": {
   "codemirror_mode": {
    "name": "ipython",
    "version": 3
   },
   "file_extension": ".py",
   "mimetype": "text/x-python",
   "name": "python",
   "nbconvert_exporter": "python",
   "pygments_lexer": "ipython3",
   "version": "3.5.2"
  }
 },
 "nbformat": 4,
 "nbformat_minor": 1
}
